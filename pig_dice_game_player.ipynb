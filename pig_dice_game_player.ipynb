{
 "cells": [
  {
   "cell_type": "code",
   "execution_count": 5,
   "metadata": {},
   "outputs": [],
   "source": [
    "import random"
   ]
  },
  {
   "cell_type": "code",
   "execution_count": 8,
   "metadata": {},
   "outputs": [],
   "source": [
    "# 플레이어 게임\n",
    "# game_player - 플레이어 \n",
    "# game_computer - 컴퓨터 \n",
    "# player_points - 플레이어 점수\n",
    "# computer_potins - 컴퓨터 변수\n",
    "\n",
    "turn = 0\n",
    "turn_points = 0\n",
    "player_points = 0\n",
    "computer_points = 0\n",
    "\n",
    "def game_player(player_points):\n",
    "    while (player_points < 100):\n",
    "        roll_stop = input(\"명령을 입력해 주세요: \")\n",
    "\n",
    "        if roll_stop == \"roll\":\n",
    "            tmp_num = dice()\n",
    "            print(f\"주사위 값은 {tmp_num}입니다.\")\n",
    "            if tmp_num == 1:\n",
    "                turn_points = 0\n",
    "                turn = turn + 1\n",
    "                print(f\"이번 턴 점수는 {turn_points}입니다.\")\n",
    "                print(f\"{turn}턴 종료\")\n",
    "                break\n",
    "            else:\n",
    "                turn_points = turn_points + tmp_num\n",
    "                print(f\"이번 턴 점수는 {turn_points}입니다.\")\n",
    "        else:\n",
    "             player_points = player_points + turn_points\n",
    "             turn = turn + 1\n",
    "             turn_points = 0\n",
    "             print(f\"플레이어 총 점수는 {player_points}입니다.\")\n",
    "             print(f\"{turn}턴 종료\")   \n",
    "             break\n",
    "         \n",
    "        \n"
   ]
  },
  {
   "cell_type": "code",
   "execution_count": null,
   "metadata": {},
   "outputs": [],
   "source": []
  }
 ],
 "metadata": {
  "kernelspec": {
   "display_name": "Python 3 (ipykernel)",
   "language": "python",
   "name": "python3"
  },
  "language_info": {
   "codemirror_mode": {
    "name": "ipython",
    "version": 3
   },
   "file_extension": ".py",
   "mimetype": "text/x-python",
   "name": "python",
   "nbconvert_exporter": "python",
   "pygments_lexer": "ipython3",
   "version": "3.9.7"
  }
 },
 "nbformat": 4,
 "nbformat_minor": 2
}
