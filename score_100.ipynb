{
 "cells": [
  {
   "cell_type": "code",
   "execution_count": 21,
   "metadata": {},
   "outputs": [],
   "source": [
    "player_points = 0\n",
    "computer_points = 0\n",
    "\n",
    "# 가장 먼저 100점을 획득한 플레이어(또는 컴퓨터가 승리)    \n",
    "def victory():\n",
    "    if player_points > computer_points:\n",
    "        print('[플레이어1]이 승리하였습니다!')\n",
    "    else:\n",
    "        print('[컴퓨터1]이 승리하였습니다!')\n",
    "    "
   ]
  }
 ],
 "metadata": {
  "kernelspec": {
   "display_name": "Python 3 (ipykernel)",
   "language": "python",
   "name": "python3"
  },
  "language_info": {
   "codemirror_mode": {
    "name": "ipython",
    "version": 3
   },
   "file_extension": ".py",
   "mimetype": "text/x-python",
   "name": "python",
   "nbconvert_exporter": "python",
   "pygments_lexer": "ipython3",
   "version": "3.9.7"
  }
 },
 "nbformat": 4,
 "nbformat_minor": 2
}
