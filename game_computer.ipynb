{
 "cells": [
  {
   "cell_type": "code",
   "execution_count": 11,
   "metadata": {
    "ExecuteTime": {
     "end_time": "2022-05-09T11:36:02.974040Z",
     "start_time": "2022-05-09T11:36:02.969515Z"
    }
   },
   "outputs": [],
   "source": [
    "import random\n",
    "\n",
    "computer_points = 0"
   ]
  },
  {
   "cell_type": "code",
   "execution_count": 7,
   "metadata": {
    "ExecuteTime": {
     "end_time": "2022-05-09T11:27:05.306077Z",
     "start_time": "2022-05-09T11:27:05.299193Z"
    }
   },
   "outputs": [],
   "source": [
    "def dice():\n",
    "    return random.randrange(1, 7)"
   ]
  },
  {
   "cell_type": "code",
   "execution_count": 22,
   "metadata": {
    "ExecuteTime": {
     "end_time": "2022-05-09T11:42:58.710069Z",
     "start_time": "2022-05-09T11:42:58.700187Z"
    }
   },
   "outputs": [],
   "source": [
    "\n",
    "def choose_keep_playing():\n",
    "    return random.randrange(1, 3)      \n",
    "     \n",
    "def game_computer(computer_points):\n",
    "  while(computer_points<=100):\n",
    "      \n",
    "    value = dice()\n",
    "    #print(f'컴퓨터가 뽑은 숫자: {value}')\n",
    "    \n",
    "    if(value==1):\n",
    "      computer_points = 0\n",
    "      return computer_points, 1 # reset Computer's score\n",
    "    elif(computer_points>=100):\n",
    "      return computer_points, 2 # Computer win this game\n",
    "    else:\n",
    "      computer_points += value\n",
    "      return computer_points, 3\n",
    "           "
   ]
  },
  {
   "cell_type": "code",
   "execution_count": null,
   "metadata": {},
   "outputs": [],
   "source": []
  }
 ],
 "metadata": {
  "kernelspec": {
   "display_name": "Python 3 (ipykernel)",
   "language": "python",
   "name": "python3"
  },
  "language_info": {
   "codemirror_mode": {
    "name": "ipython",
    "version": 3
   },
   "file_extension": ".py",
   "mimetype": "text/x-python",
   "name": "python",
   "nbconvert_exporter": "python",
   "pygments_lexer": "ipython3",
   "version": "3.9.0"
  },
  "toc": {
   "base_numbering": 1,
   "nav_menu": {},
   "number_sections": true,
   "sideBar": true,
   "skip_h1_title": false,
   "title_cell": "Table of Contents",
   "title_sidebar": "Contents",
   "toc_cell": false,
   "toc_position": {},
   "toc_section_display": true,
   "toc_window_display": false
  }
 },
 "nbformat": 4,
 "nbformat_minor": 2
}
