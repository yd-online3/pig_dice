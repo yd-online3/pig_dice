{
 "cells": [
  {
   "cell_type": "code",
   "execution_count": 3,
   "metadata": {},
   "outputs": [],
   "source": [
    "import random"
   ]
  },
  {
   "cell_type": "code",
   "execution_count": 16,
   "metadata": {},
   "outputs": [
    {
     "name": "stdout",
     "output_type": "stream",
     "text": [
      "명령을 입력해 주세요: roll\n",
      "주사위 값은 6입니다.\n",
      "이번 턴 점수는 6입니다.\n",
      "명령을 입력해 주세요: roll\n",
      "주사위 값은 2입니다.\n",
      "이번 턴 점수는 8입니다.\n",
      "명령을 입력해 주세요: stop\n",
      "플레이어 총 점수는 8입니다.\n",
      "1턴 종료\n"
     ]
    }
   ],
   "source": [
    "# 플레이어 게임\n",
    "# game_player - 플레이어 \n",
    "# game_computer - 컴퓨터 \n",
    "# player_points - 플레이어 점수\n",
    "# computer_potins - 컴퓨터 변수\n",
    "\n",
    "turn = 0\n",
    "turn_points = 0\n",
    "player_points = 0\n",
    "computer_points = 0\n",
    "\n",
    "while (player_points < 100):\n",
    "    roll_stop = input(\"명령을 입력해 주세요: \")\n",
    "\n",
    "    if roll_stop == \"roll\":\n",
    "        dice = random.randrange(1,7)\n",
    "        print(f\"주사위 값은 {dice}입니다.\")\n",
    "        if dice == 1:\n",
    "            turn_points = 0\n",
    "            turn = turn + 1\n",
    "            print(f\"이번 턴 점수는 {turn_points}입니다.\")\n",
    "            print(f\"{turn}턴 종료\")\n",
    "            break\n",
    "        else:\n",
    "            turn_points = turn_points + dice\n",
    "            print(f\"이번 턴 점수는 {turn_points}입니다.\")\n",
    "    else:\n",
    "         player_points = player_points + turn_points\n",
    "         turn = turn + 1\n",
    "         turn_points = 0\n",
    "         print(f\"플레이어 총 점수는 {player_points}입니다.\")\n",
    "         print(f\"{turn}턴 종료\")   \n",
    "         break\n",
    "         \n",
    "        \n"
   ]
  }
 ],
 "metadata": {
  "kernelspec": {
   "display_name": "Python 3 (ipykernel)",
   "language": "python",
   "name": "python3"
  },
  "language_info": {
   "codemirror_mode": {
    "name": "ipython",
    "version": 3
   },
   "file_extension": ".py",
   "mimetype": "text/x-python",
   "name": "python",
   "nbconvert_exporter": "python",
   "pygments_lexer": "ipython3",
   "version": "3.9.7"
  }
 },
 "nbformat": 4,
 "nbformat_minor": 2
}
