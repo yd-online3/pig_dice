{
 "cells": [
  {
   "cell_type": "code",
   "execution_count": null,
   "metadata": {},
   "outputs": [],
   "source": [
    "import random\n",
    "\n",
    "roll = 0\n",
    "score = 0\n",
    "#turn = int(input())\n",
    "player_points = 0\n",
    "computer_points = 0\n",
    "\n",
    "\n",
    "#print('플레이어 수를 입력해주시기 바랍니다')\n",
    "\n",
    "# 혼자서 만들어보기\n",
    "\n",
    "def roll_dice():\n",
    "    roll = int(input())\n",
    "    if roll < 7:\n",
    "        score += roll\n",
    "        print(score)\n",
    "        print('주사위를 던질 차례입니다')\n",
    "    elif roll < 1:\n",
    "        int(input())\n",
    "        print('음수는 불가능합니다, 다시 던져주시기 바랍니다')\n",
    "    else:\n",
    "        int(input())\n",
    "        print('주사위 값 입력은 () 1 ~ 6 )만 가능합니다, 다시 던져주시기 바랍니다')\n",
    "    return score\n",
    "\n",
    "\n",
    "while score < 100:\n",
    "    #for i in range(1,turn):\n",
    "    player_points += roll_dice()\n",
    "    print('player_points')\n",
    "    \n",
    "\n",
    "# 가장 먼저 100점을 획득한 플레이어(또는 컴퓨터가 승리)    \n",
    "\n",
    "if player_points > computer_points:\n",
    "    print('[플레이어1]이 승리하였습니다!')\n",
    "else:\n",
    "    print('[컴퓨터1]이 승리하였습니다!')\n",
    "    "
   ]
  }
 ],
 "metadata": {
  "kernelspec": {
   "display_name": "Python 3 (ipykernel)",
   "language": "python",
   "name": "python3"
  },
  "language_info": {
   "codemirror_mode": {
    "name": "ipython",
    "version": 3
   },
   "file_extension": ".py",
   "mimetype": "text/x-python",
   "name": "python",
   "nbconvert_exporter": "python",
   "pygments_lexer": "ipython3",
   "version": "3.9.7"
  }
 },
 "nbformat": 4,
 "nbformat_minor": 2
}
