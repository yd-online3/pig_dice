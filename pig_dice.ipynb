{
 "cells": [
  {
   "cell_type": "code",
   ]
  }
 ],
 "metadata": {
  },
  "orig_nbformat": 4
 },
 "nbformat": 4,
 "nbformat_minor": 2
}
