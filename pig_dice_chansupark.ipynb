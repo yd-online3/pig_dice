{
 "cells": [
  {
   "cell_type": "code",
   "execution_count": 19,
   "metadata": {},
   "outputs": [
    {
     "name": "stdout",
     "output_type": "stream",
     "text": [
      "3\n"
     ]
    },
    {
     "ename": "UnboundLocalError",
     "evalue": "local variable 'score' referenced before assignment",
     "output_type": "error",
     "traceback": [
      "\u001b[1;31m---------------------------------------------------------------------------\u001b[0m",
      "\u001b[1;31mUnboundLocalError\u001b[0m                         Traceback (most recent call last)",
      "\u001b[1;32mC:\\Users\\Public\\Documents\\Wondershare\\CreatorTemp/ipykernel_32728/4038969048.py\u001b[0m in \u001b[0;36m<module>\u001b[1;34m\u001b[0m\n\u001b[0;32m     12\u001b[0m \u001b[1;31m# 혼자서 만들어보기\u001b[0m\u001b[1;33m\u001b[0m\u001b[1;33m\u001b[0m\u001b[0m\n\u001b[0;32m     13\u001b[0m \u001b[1;33m\u001b[0m\u001b[0m\n\u001b[1;32m---> 14\u001b[1;33m \u001b[0mroll_dice\u001b[0m\u001b[1;33m(\u001b[0m\u001b[0mroll\u001b[0m\u001b[1;33m)\u001b[0m\u001b[1;33m\u001b[0m\u001b[1;33m\u001b[0m\u001b[0m\n\u001b[0m\u001b[0;32m     15\u001b[0m \u001b[0mprint\u001b[0m\u001b[1;33m(\u001b[0m\u001b[0mscore\u001b[0m\u001b[1;33m)\u001b[0m\u001b[1;33m\u001b[0m\u001b[1;33m\u001b[0m\u001b[0m\n\u001b[0;32m     16\u001b[0m \u001b[1;33m\u001b[0m\u001b[0m\n",
      "\u001b[1;32mC:\\Users\\Public\\Documents\\Wondershare\\CreatorTemp/ipykernel_32728/2153618808.py\u001b[0m in \u001b[0;36mroll_dice\u001b[1;34m(roll)\u001b[0m\n\u001b[0;32m     15\u001b[0m     \u001b[0mroll\u001b[0m \u001b[1;33m=\u001b[0m \u001b[0mint\u001b[0m\u001b[1;33m(\u001b[0m\u001b[0minput\u001b[0m\u001b[1;33m(\u001b[0m\u001b[1;33m)\u001b[0m\u001b[1;33m)\u001b[0m\u001b[1;33m\u001b[0m\u001b[1;33m\u001b[0m\u001b[0m\n\u001b[0;32m     16\u001b[0m     \u001b[1;32mif\u001b[0m \u001b[0mroll\u001b[0m \u001b[1;33m<\u001b[0m \u001b[1;36m7\u001b[0m\u001b[1;33m:\u001b[0m\u001b[1;33m\u001b[0m\u001b[1;33m\u001b[0m\u001b[0m\n\u001b[1;32m---> 17\u001b[1;33m         \u001b[0mscore\u001b[0m \u001b[1;33m+=\u001b[0m \u001b[0mroll\u001b[0m\u001b[1;33m\u001b[0m\u001b[1;33m\u001b[0m\u001b[0m\n\u001b[0m\u001b[0;32m     18\u001b[0m         \u001b[0mprint\u001b[0m\u001b[1;33m(\u001b[0m\u001b[0mscore\u001b[0m\u001b[1;33m)\u001b[0m\u001b[1;33m\u001b[0m\u001b[1;33m\u001b[0m\u001b[0m\n\u001b[0;32m     19\u001b[0m         \u001b[0mprint\u001b[0m\u001b[1;33m(\u001b[0m\u001b[1;34m'주사위를 던질 차례입니다'\u001b[0m\u001b[1;33m)\u001b[0m\u001b[1;33m\u001b[0m\u001b[1;33m\u001b[0m\u001b[0m\n",
      "\u001b[1;31mUnboundLocalError\u001b[0m: local variable 'score' referenced before assignment"
     ]
    }
   ],
   "source": [
    "import random\n",
    "\n",
    "\n",
    "score = 0\n",
    "#turn = int(input())\n",
    "player_points = 0\n",
    "computer_points = 0\n",
    "\n",
    "\n",
    "#print('플레이어 수를 입력해주시기 바랍니다')\n",
    "\n",
    "# 혼자서 만들어보기\n",
    "\n",
    "roll_dice(roll)\n",
    "print(score)\n",
    "\n",
    "def roll_dice(x):\n",
    "    x = int(input())\n",
    "    if x < 7:\n",
    "        score += x\n",
    "        print(score)\n",
    "        print('주사위를 던질 차례입니다')\n",
    "    elif x < 1:\n",
    "        print('0 보다 커야됩니다, 다시 던져주시기 바랍니다')\n",
    "        roll_dice(x)\n",
    "    else:\n",
    "        print('주사위 값 입력은 ( 1 ~ 6 )만 가능합니다, 다시 던져주시기 바랍니다')\n",
    "        roll_dice(x)\n",
    "    return score\n",
    "\n",
    "\n",
    "\n",
    "#while score < 100:\n",
    "    #for i in range(1,turn):\n",
    "    #player_points += roll_dice()\n",
    "    #print('player_points')\n",
    "    \n",
    "\n",
    "# 가장 먼저 100점을 획득한 플레이어(또는 컴퓨터가 승리)    \n",
    "\n",
    "if player_points > computer_points:\n",
    "    print('[플레이어1]이 승리하였습니다!')\n",
    "else:\n",
    "    print('[컴퓨터1]이 승리하였습니다!')\n",
    "    "
   ]
  }
 ],
 "metadata": {
  "kernelspec": {
   "display_name": "Python 3 (ipykernel)",
   "language": "python",
   "name": "python3"
  },
  "language_info": {
   "codemirror_mode": {
    "name": "ipython",
    "version": 3
   },
   "file_extension": ".py",
   "mimetype": "text/x-python",
   "name": "python",
   "nbconvert_exporter": "python",
   "pygments_lexer": "ipython3",
   "version": "3.9.7"
  }
 },
 "nbformat": 4,
 "nbformat_minor": 2
}
