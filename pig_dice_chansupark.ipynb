{
 "cells": [
  {
   "cell_type": "code",
   "execution_count": 21,
   "metadata": {},
   "outputs": [],
   "source": [
    "player_points = 0\n",
    "computer_points = 0\n",
    "\n",
    "# 가장 먼저 100점을 획득한 플레이어(또는 컴퓨터가 승리)    \n",
    "def victory():\n",
    "    if player_points > computer_points:\n",
    "        print('[플레이어1]이 승리하였습니다!')\n",
    "    else:\n",
    "        print('[컴퓨터1]이 승리하였습니다!')\n",
    "    "
   ]
  },
  {
   "cell_type": "code",
   "execution_count": null,
   "metadata": {},
   "outputs": [],
   "source": [
    "# 혼자서 만들어보기\n",
    "\n",
    "import random\n",
    "\n",
    "\n",
    "score = 0\n",
    "#turn = int(input())\n",
    "\n",
    "#while score < 100:\n",
    "    #for i in range(1,turn):\n",
    "    #player_points += roll_dice()\n",
    "    #print('player_points')\n",
    "\n",
    "#print('플레이어 수를 입력해주시기 바랍니다')\n",
    "\n",
    "\n",
    "\n",
    "roll_dice(roll)\n",
    "print(score)\n",
    "\n",
    "def roll_dice(x):\n",
    "    x = int(input())\n",
    "    if x < 7:\n",
    "        score += x\n",
    "        print(score)\n",
    "        print('주사위를 던질 차례입니다')\n",
    "    elif x < 1:\n",
    "        print('0 보다 커야됩니다, 다시 던져주시기 바랍니다')\n",
    "        roll_dice(x)\n",
    "    else:\n",
    "        print('주사위 값 입력은 ( 1 ~ 6 )만 가능합니다, 다시 던져주시기 바랍니다')\n",
    "        roll_dice(x)\n",
    "    return score"
   ]
  }
 ],
 "metadata": {
  "kernelspec": {
   "display_name": "Python 3 (ipykernel)",
   "language": "python",
   "name": "python3"
  },
  "language_info": {
   "codemirror_mode": {
    "name": "ipython",
    "version": 3
   },
   "file_extension": ".py",
   "mimetype": "text/x-python",
   "name": "python",
   "nbconvert_exporter": "python",
   "pygments_lexer": "ipython3",
   "version": "3.9.7"
  }
 },
 "nbformat": 4,
 "nbformat_minor": 2
}
